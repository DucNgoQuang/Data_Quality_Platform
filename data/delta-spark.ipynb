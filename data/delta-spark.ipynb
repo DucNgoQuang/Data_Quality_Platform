{
 "cells": [
  {
   "cell_type": "code",
   "execution_count": 12,
   "id": "40894826",
   "metadata": {},
   "outputs": [],
   "source": [
    "import os\n",
    "# os.environ[\"JAVA_HOME\"] = \"/usr/lib/jvm/java-11-openjdk-amd64\"\n",
    "# os.environ[\"PATH\"] = f'{os.environ[\"JAVA_HOME\"]}/bin:' + os.environ[\"PATH\"]"
   ]
  },
  {
   "cell_type": "code",
   "execution_count": 13,
   "id": "7581aea1",
   "metadata": {},
   "outputs": [],
   "source": [
    "import pyspark\n",
    "from dotenv import load_dotenv\n",
    "from delta import * "
   ]
  },
  {
   "cell_type": "code",
   "execution_count": 14,
   "id": "509ec3a2",
   "metadata": {},
   "outputs": [],
   "source": [
    "load_dotenv()\n",
    "access_key = os.getenv(\"API_KEY\")\n",
    "secret_key = os.getenv(\"SECRET_ACCESS_KEY\")"
   ]
  },
  {
   "cell_type": "code",
   "execution_count": 15,
   "id": "a6aaf5f5",
   "metadata": {},
   "outputs": [],
   "source": [
    "# conf = (\n",
    "#     pyspark.conf.SparkConf()\n",
    "#     .setAppName(\"MY_APP\")\n",
    "#     .set(\n",
    "#         \"spark.sql.catalog.spark_catalog\",\n",
    "#         \"org.apache.spark.sql.delta.catalog.DeltaCatalog\",\n",
    "#     )\n",
    "#     .set(\"spark.sql.extensions\", \"io.delta.sql.DeltaSparkSessionExtension\")\n",
    "#     .set(\"spark.hadoop.fs.s3a.access.key\", API_KEY)\n",
    "#     .set(\"spark.hadoop.fs.s3a.secret.key\", SECRET_KEY)\n",
    "#     #.set(\"spark.hadoop.fs.s3a.endpoint\", \"s3.amazonaws.com\")\n",
    "#     .set(\"spark.sql.shuffle.partitions\", \"4\")\n",
    "#     .setMaster(\n",
    "#         \"local[*]\"\n",
    "#     )  # replace the * with your desired number of cores. * for use all.\n",
    "# )\n",
    "\n",
    "# extra_packages = [\n",
    "#     \"org.apache.hadoop:hadoop-aws:3.3.4\",\n",
    "#     \"org.apache.hadoop:hadoop-common:3.3.4\",\n",
    "#     \"com.amazonaws:aws-java-sdk-bundle:1.12.262\",\n",
    "# ]\n",
    "\n",
    "# builder = pyspark.sql.SparkSession.builder.appName(\"MyApp\").config(conf=conf)\n",
    "\n",
    "# spark = configure_spark_with_delta_pip(\n",
    "#     builder, extra_packages=extra_packages\n",
    "# ).getOrCreate()\n",
    "conf = (\n",
    "    pyspark.conf.SparkConf()\n",
    "    .setAppName(\"MY_APP\")\n",
    "    .set(\n",
    "        \"spark.sql.catalog.spark_catalog\",\n",
    "        \"org.apache.spark.sql.delta.catalog.DeltaCatalog\",\n",
    "    )\n",
    "    .set(\"spark.sql.extensions\", \"io.delta.sql.DeltaSparkSessionExtension\")\n",
    "    .set(\"spark.hadoop.fs.s3a.endpoint\", \"s3.amazonaws.com\")\n",
    "    .set(\"spark.hadoop.fs.s3a.access.key\", access_key)\n",
    "    .set(\"spark.hadoop.fs.s3a.secret.key\", secret_key)\n",
    "    .set(\"spark.hadoop.fs.s3a.region\", \"ap-southeast-2\")\n",
    "    .set(\"spark.hadoop.fs.s3a.impl\", \"org.apache.hadoop.fs.s3a.S3AFileSystem\")\n",
    "    .set(\"spark.sql.shuffle.partitions\", \"4\")\n",
    "    .setMaster(\n",
    "        \"local[*]\"\n",
    "    )  # replace the * with your desired number of cores. * for use all.\n",
    ")\n",
    "\n",
    "extra_packages = [\n",
    "    \"org.apache.hadoop:hadoop-aws:3.3.4\",\n",
    "    \"org.apache.hadoop:hadoop-common:3.3.4\",\n",
    "    \"com.amazonaws:aws-java-sdk-bundle:1.12.262\",\n",
    "]\n",
    "\n",
    "builder = pyspark.sql.SparkSession.builder.appName(\"MyApp\").config(conf=conf)\n",
    "spark = configure_spark_with_delta_pip(\n",
    "    builder, extra_packages=extra_packages\n",
    ").getOrCreate()\n"
   ]
  },
  {
   "cell_type": "code",
   "execution_count": 16,
   "id": "4435f992",
   "metadata": {},
   "outputs": [
    {
     "name": "stderr",
     "output_type": "stream",
     "text": [
      "                                                                                \r"
     ]
    }
   ],
   "source": [
    "df = spark.read.csv('Dish.csv', header=True, inferSchema=True)\n",
    "\n",
    "df.write.format(\"delta\").save(\"s3a://vdt2025/dish_delta\")"
   ]
  },
  {
   "cell_type": "code",
   "execution_count": 17,
   "id": "5eefa7f6",
   "metadata": {},
   "outputs": [
    {
     "name": "stderr",
     "output_type": "stream",
     "text": [
      "                                                                                \r"
     ]
    }
   ],
   "source": [
    "df = spark.read.csv('Menu.csv', header=True, inferSchema=True)\n",
    "\n",
    "df.write.format(\"delta\").save(\"s3a://vdt2025/menu_delta\")"
   ]
  },
  {
   "cell_type": "code",
   "execution_count": 18,
   "id": "8e913a32",
   "metadata": {},
   "outputs": [
    {
     "name": "stderr",
     "output_type": "stream",
     "text": [
      "25/05/29 22:07:07 WARN MemoryManager: Total allocation exceeds 95.00% (1,020,054,720 bytes) of heap memory\n",
      "Scaling row group sizes to 95.00% for 8 writers\n",
      "                                                                                \r"
     ]
    }
   ],
   "source": [
    "df = spark.read.csv('MenuItem.csv', header=True, inferSchema=True)\n",
    "\n",
    "df.write.format(\"delta\").save(\"s3a://vdt2025/menuitem_delta\")"
   ]
  },
  {
   "cell_type": "code",
   "execution_count": 19,
   "id": "dde95ec1",
   "metadata": {},
   "outputs": [
    {
     "name": "stderr",
     "output_type": "stream",
     "text": [
      "                                                                                \r"
     ]
    }
   ],
   "source": [
    "df = spark.read.csv('MenuPage.csv', header=True, inferSchema=True)\n",
    "\n",
    "df.write.format(\"delta\").save(\"s3a://vdt2025/menupage_delta\")"
   ]
  },
  {
   "cell_type": "code",
   "execution_count": 20,
   "id": "1408f586",
   "metadata": {},
   "outputs": [
    {
     "name": "stderr",
     "output_type": "stream",
     "text": [
      "                                                                                \r"
     ]
    }
   ],
   "source": [
    "df = spark.read.csv('Retail_Transaction_Dataset.csv', header=True, inferSchema=True)\n",
    "\n",
    "df.write.format(\"delta\").save(\"s3a://vdt2025/retail_transactions_delta\")\n"
   ]
  },
  {
   "cell_type": "code",
   "execution_count": 21,
   "id": "ad95b51e",
   "metadata": {},
   "outputs": [],
   "source": [
    "spark.stop()"
   ]
  }
 ],
 "metadata": {
  "kernelspec": {
   "display_name": ".venv",
   "language": "python",
   "name": "python3"
  },
  "language_info": {
   "codemirror_mode": {
    "name": "ipython",
    "version": 3
   },
   "file_extension": ".py",
   "mimetype": "text/x-python",
   "name": "python",
   "nbconvert_exporter": "python",
   "pygments_lexer": "ipython3",
   "version": "3.11.8"
  }
 },
 "nbformat": 4,
 "nbformat_minor": 5
}
