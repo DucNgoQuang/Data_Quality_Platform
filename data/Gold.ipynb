{
 "cells": [
  {
   "cell_type": "code",
   "execution_count": null,
   "id": "3cc742b8",
   "metadata": {},
   "outputs": [],
   "source": [
    "import pyspark\n",
    "import os\n",
    "import pyspark.sql.functions as F\n",
    "from dotenv import load_dotenv\n",
    "from delta import * \n",
    "from pyspark.sql.types import DecimalType"
   ]
  },
  {
   "cell_type": "code",
   "execution_count": null,
   "id": "4dc78b72",
   "metadata": {},
   "outputs": [],
   "source": [
    "load_dotenv('.././.env')\n",
    "access_key = os.getenv(\"API_KEY\")\n",
    "secret_key = os.getenv(\"SECRET_ACCESS_KEY\")\n",
    "print(access_key)"
   ]
  },
  {
   "cell_type": "code",
   "execution_count": null,
   "id": "0e6c8443",
   "metadata": {},
   "outputs": [],
   "source": [
    "conf = (\n",
    "    pyspark.conf.SparkConf()\n",
    "    .setAppName(\"MY_APP\")\n",
    "    .set(\n",
    "        \"spark.sql.catalog.spark_catalog\",\n",
    "        \"org.apache.spark.sql.delta.catalog.DeltaCatalog\",\n",
    "    )\n",
    "    .set(\"spark.sql.extensions\", \"io.delta.sql.DeltaSparkSessionExtension\")\n",
    "    .set(\"spark.hadoop.fs.s3a.endpoint\", \"s3.amazonaws.com\")\n",
    "    .set(\"spark.hadoop.fs.s3a.access.key\", access_key)\n",
    "    .set(\"spark.hadoop.fs.s3a.secret.key\", secret_key)\n",
    "    .set(\"spark.hadoop.fs.s3a.region\", \"ap-southeast-2\")\n",
    "    .set(\"spark.hadoop.fs.s3a.impl\", \"org.apache.hadoop.fs.s3a.S3AFileSystem\")\n",
    "    .set(\"spark.sql.shuffle.partitions\", \"4\")\n",
    "    .setMaster(\n",
    "        \"local[*]\"\n",
    "    )  # replace the * with your desired number of cores. * for use all.\n",
    ")\n",
    "\n",
    "extra_packages = [\n",
    "    \"org.apache.hadoop:hadoop-aws:3.3.4\",\n",
    "    \"org.apache.hadoop:hadoop-common:3.3.4\",\n",
    "    \"com.amazonaws:aws-java-sdk-bundle:1.12.262\",\n",
    "]\n",
    "\n",
    "builder = pyspark.sql.SparkSession.builder.appName(\"MyApp\").config(conf=conf)\n",
    "spark = configure_spark_with_delta_pip(\n",
    "    builder, extra_packages=extra_packages\n",
    ").getOrCreate()"
   ]
  },
  {
   "cell_type": "code",
   "execution_count": null,
   "id": "88ad1f28",
   "metadata": {},
   "outputs": [],
   "source": [
    "df = spark.read.format(\"delta\").load(\"s3a://vdt2025/menu_silver\")"
   ]
  },
  {
   "cell_type": "code",
   "execution_count": null,
   "id": "68ad5a6b",
   "metadata": {},
   "outputs": [],
   "source": []
  },
  {
   "cell_type": "code",
   "execution_count": null,
   "id": "d8f8eacc",
   "metadata": {},
   "outputs": [],
   "source": [
    "dim_dish = df.select"
   ]
  }
 ],
 "metadata": {
  "language_info": {
   "name": "python"
  }
 },
 "nbformat": 4,
 "nbformat_minor": 5
}
