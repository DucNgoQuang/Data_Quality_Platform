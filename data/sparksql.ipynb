{
 "cells": [
  {
   "cell_type": "code",
   "execution_count": 39,
   "id": "763cc168",
   "metadata": {},
   "outputs": [],
   "source": [
    "from pyspark.sql import SparkSession\n"
   ]
  },
  {
   "cell_type": "code",
   "execution_count": 40,
   "id": "cadcdb5f",
   "metadata": {},
   "outputs": [],
   "source": [
    "spark = SparkSession.builder \\\n",
    "    .appName(\"Spark SQL Thrift\") \\\n",
    "    .enableHiveSupport() \\\n",
    "    .config(\"spark.sql.catalogImplementation\", \"hive\") \\\n",
    "    .getOrCreate()"
   ]
  },
  {
   "cell_type": "code",
   "execution_count": 41,
   "id": "074fa0ed",
   "metadata": {},
   "outputs": [
    {
     "name": "stderr",
     "output_type": "stream",
     "text": [
      "                                                                                \r"
     ]
    }
   ],
   "source": [
    "df = spark.read.csv(\".././Retail_Transaction_Dataset.csv\", header=True, inferSchema=True)"
   ]
  },
  {
   "cell_type": "code",
   "execution_count": 42,
   "id": "6c3de38c",
   "metadata": {},
   "outputs": [
    {
     "name": "stderr",
     "output_type": "stream",
     "text": [
      "25/06/01 16:45:18 WARN HiveConf: HiveConf of name hive.stats.jdbc.timeout does not exist\n",
      "25/06/01 16:45:18 WARN HiveConf: HiveConf of name hive.stats.retries.wait does not exist\n"
     ]
    },
    {
     "data": {
      "text/plain": [
       "DataFrame[]"
      ]
     },
     "execution_count": 42,
     "metadata": {},
     "output_type": "execute_result"
    }
   ],
   "source": [
    "spark.sql(\"CREATE DATABASE IF NOT EXISTS retail_db\")"
   ]
  },
  {
   "cell_type": "code",
   "execution_count": 43,
   "id": "91a91c2f",
   "metadata": {},
   "outputs": [
    {
     "name": "stderr",
     "output_type": "stream",
     "text": [
      "25/06/01 16:45:18 WARN ObjectStore: Failed to get database global_temp, returning NoSuchObjectException\n",
      "25/06/01 16:45:22 WARN SessionState: METASTORE_FILTER_HOOK will be ignored, since hive.security.authorization.manager is set to instance of HiveAuthorizerFactory.\n",
      "25/06/01 16:45:22 WARN HiveConf: HiveConf of name hive.internal.ss.authz.settings.applied.marker does not exist\n",
      "25/06/01 16:45:22 WARN HiveConf: HiveConf of name hive.stats.jdbc.timeout does not exist\n",
      "25/06/01 16:45:22 WARN HiveConf: HiveConf of name hive.stats.retries.wait does not exist\n"
     ]
    }
   ],
   "source": [
    "df.write.mode(\"overwrite\").saveAsTable(\"retail_db.retail_transactions\")"
   ]
  },
  {
   "cell_type": "code",
   "execution_count": 44,
   "id": "bbc386a1",
   "metadata": {},
   "outputs": [
    {
     "name": "stdout",
     "output_type": "stream",
     "text": [
      "+-----------------+----------+-----------+-----------+----------------+-------------+--------------------+---------------+---------------+-----------+\n",
      "|       CustomerID| ProductID|   Quantity|      Price| TransactionDate|PaymentMethod|       StoreLocation|ProductCategory|DiscountApplied|TotalAmount|\n",
      "+-----------------+----------+-----------+-----------+----------------+-------------+--------------------+---------------+---------------+-----------+\n",
      "|        Perezfurt| WY 34530\"| Home Decor|9.975989279|     46.25422312|         NULL|                NULL|           NULL|           NULL|       NULL|\n",
      "|            31584|         A|          5|95.55857598| 12/8/2023 14:04|         Cash|  Unit 4573 Box 1143|           NULL|           NULL|       NULL|\n",
      "|    DPO AE 64751\"|     Books|6.047463833|448.8985283|            NULL|         NULL|                NULL|           NULL|           NULL|       NULL|\n",
      "|           798751|         A|          6|81.25929657|  5/4/2023 22:53|         Cash|    0715 Scott Route|           NULL|           NULL|       NULL|\n",
      "|West Samanthaland| NY 04986\"| Home Decor|5.327160118|     461.5829024|         NULL|                NULL|           NULL|           NULL|       NULL|\n",
      "|           884167|         A|          9|68.82946262| 12/24/2023 3:16|       PayPal|328 Whitney Valle...|           NULL|           NULL|       NULL|\n",
      "|     South George| TX 21192\"|      Books|8.577181208|      566.332514|         NULL|                NULL|           NULL|           NULL|       NULL|\n",
      "|           523507|         D|          9|63.62406827| 4/19/2024 13:25|       PayPal|41986 Moore Manor...|           NULL|           NULL|       NULL|\n",
      "| Port Cynthiastad| OK 09806\"|      Books|5.105582876|     543.3811986|         NULL|                NULL|           NULL|           NULL|       NULL|\n",
      "|           105466|         C|          3|13.07171646| 10/1/2023 15:12|   Debit Card|53430 Thomas Trac...|           NULL|           NULL|       NULL|\n",
      "|     Lake Michael| LA 15215\"|   Clothing|6.130508818|     36.81106119|         NULL|                NULL|           NULL|           NULL|       NULL|\n",
      "|           446199|         A|          8|79.79583831|   8/2/2023 1:45|   Debit Card|3391 Tara Pass Su...|           NULL|           NULL|       NULL|\n",
      "|     Port Cynthia| ID 36905\"| Home Decor|0.653503561|     634.1949573|         NULL|                NULL|           NULL|           NULL|       NULL|\n",
      "|           652799|         A|          8|55.11801836|  5/24/2023 3:20|   Debit Card|70449 Christopher...|           NULL|           NULL|       NULL|\n",
      "|       North Mary| AR 97949\"| Home Decor|12.54690903|     385.6192859|         NULL|                NULL|           NULL|           NULL|       NULL|\n",
      "|           775983|         C|          9|99.72693745|  7/28/2023 7:12|  Credit Card|    6824 Megan Coves|           NULL|           NULL|       NULL|\n",
      "|      Mahoneyfurt| HI 93591\"|      Books| 16.8474313|     746.3295916|         NULL|                NULL|           NULL|           NULL|       NULL|\n",
      "|           776568|         A|          1|56.69993353|   9/3/2023 1:19|         Cash|5449 Jason Isle A...|           NULL|           NULL|       NULL|\n",
      "|   Port Janetview| WV 23852\"|   Clothing|12.15569409|     49.80766306|         NULL|                NULL|           NULL|           NULL|       NULL|\n",
      "|           543696|         B|          5|71.09311237|12/21/2023 17:38|  Credit Card|  102 Robinson Place|           NULL|           NULL|       NULL|\n",
      "+-----------------+----------+-----------+-----------+----------------+-------------+--------------------+---------------+---------------+-----------+\n",
      "only showing top 20 rows\n",
      "\n"
     ]
    }
   ],
   "source": [
    "spark.sql(\"Select * from retail_db.retail_transactions\").show()"
   ]
  },
  {
   "cell_type": "code",
   "execution_count": 45,
   "id": "152b2142",
   "metadata": {},
   "outputs": [
    {
     "name": "stdout",
     "output_type": "stream",
     "text": [
      "+---------+\n",
      "|namespace|\n",
      "+---------+\n",
      "|  default|\n",
      "|retail_db|\n",
      "+---------+\n",
      "\n"
     ]
    }
   ],
   "source": [
    "spark.sql(\"SHOW DATABASES\").show()"
   ]
  },
  {
   "cell_type": "code",
   "execution_count": 47,
   "id": "76142d67",
   "metadata": {},
   "outputs": [],
   "source": [
    "spark.stop()"
   ]
  },
  {
   "cell_type": "code",
   "execution_count": null,
   "id": "67513f94",
   "metadata": {},
   "outputs": [],
   "source": []
  }
 ],
 "metadata": {
  "kernelspec": {
   "display_name": ".venv",
   "language": "python",
   "name": "python3"
  },
  "language_info": {
   "codemirror_mode": {
    "name": "ipython",
    "version": 3
   },
   "file_extension": ".py",
   "mimetype": "text/x-python",
   "name": "python",
   "nbconvert_exporter": "python",
   "pygments_lexer": "ipython3",
   "version": "3.11.8"
  }
 },
 "nbformat": 4,
 "nbformat_minor": 5
}
